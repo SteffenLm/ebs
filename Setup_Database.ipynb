{
 "cells": [
  {
   "cell_type": "markdown",
   "metadata": {},
   "source": [
    "# 1 Setup"
   ]
  },
  {
   "cell_type": "markdown",
   "metadata": {},
   "source": [
    "## 1.0 Eingabe personalisierter Parameter"
   ]
  },
  {
   "cell_type": "code",
   "execution_count": null,
   "metadata": {},
   "outputs": [],
   "source": [
    "DATABASE_NAME = 'YOUR_DATABASE_NAME'\n",
    "DATABASE_USER = 'YOUR_DATABASE_USER'\n",
    "DATABASE_PASSWORD = 'YOUR_DATABASE_PASSWORD'\n",
    "\n",
    "CURRENT_YEAR = 'CURRENT_YEAR_AS_INT'"
   ]
  },
  {
   "cell_type": "markdown",
   "metadata": {},
   "source": [
    "## 1.1 Import relevanter Funktionen und Herstellen der Vebindung zur Datenbank"
   ]
  },
  {
   "cell_type": "code",
   "execution_count": null,
   "metadata": {
    "scrolled": false
   },
   "outputs": [],
   "source": [
    "import os\n",
    "from src.core.CreatDatabaseSchema import setUpDatabase\n",
    "from src.core.InsertMetadata import InsertMetadata\n",
    "from src.core.InsertCsvData import InsertCsvData\n",
    "from src.core.Connection import getConnection, getRootConnection\n",
    "\n",
    "data_path = os.path.join(os.getcwd(), 'data')\n",
    "rootConnection = getRootConnection(DATABASE_USER, DATABASE_PASSWORD)"
   ]
  },
  {
   "cell_type": "markdown",
   "metadata": {},
   "source": [
    "## 1.2 Setup der Datenbank"
   ]
  },
  {
   "cell_type": "code",
   "execution_count": null,
   "metadata": {
    "scrolled": true
   },
   "outputs": [],
   "source": [
    "setUpDatabase(rootConnection, DATABASE_NAME)"
   ]
  },
  {
   "cell_type": "markdown",
   "metadata": {},
   "source": [
    "## 1.3 Insert der Daten in die erstellte Datenbank"
   ]
  },
  {
   "cell_type": "code",
   "execution_count": null,
   "metadata": {
    "scrolled": false
   },
   "outputs": [],
   "source": [
    "connection = getConnection(DATABASE_NAME, DATABASE_USER, DATABASE_PASSWORD)\n",
    "\n",
    "InsertMetadata(connection)\n",
    "for year in range(2015, CURRENT_YEAR + 1):\n",
    "    InsertCsvData(year, connection, data_path)"
   ]
  }
 ],
 "metadata": {
  "kernelspec": {
   "display_name": "Python 3",
   "language": "python",
   "name": "python3"
  },
  "language_info": {
   "codemirror_mode": {
    "name": "ipython",
    "version": 3
   },
   "file_extension": ".py",
   "mimetype": "text/x-python",
   "name": "python",
   "nbconvert_exporter": "python",
   "pygments_lexer": "ipython3",
   "version": "3.7.6"
  }
 },
 "nbformat": 4,
 "nbformat_minor": 4
}
